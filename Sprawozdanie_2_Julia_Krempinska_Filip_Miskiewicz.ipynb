{
 "cells": [
  {
   "cell_type": "markdown",
   "id": "7bdc1713",
   "metadata": {},
   "source": [
    "# **Analiza danych ankietowych - Sprawozdanie II**"
   ]
  },
  {
   "cell_type": "markdown",
   "id": "1c539eaf",
   "metadata": {},
   "source": [
    "## *Autorzy: Julia Krempińska, Filip Miśkiewicz*"
   ]
  },
  {
   "cell_type": "markdown",
   "id": "7e53de7b",
   "metadata": {},
   "source": [
    "## **Biblioteki**"
   ]
  },
  {
   "cell_type": "code",
   "execution_count": 48,
   "id": "dabe6b04",
   "metadata": {},
   "outputs": [],
   "source": [
    "import numpy as np\n",
    "import scipy.stats as st\n",
    "import pandas as pd\n",
    "import warnings\n",
    "import matplotlib.pyplot as plt\n",
    "import seaborn as sns\n",
    "import statsmodels.stats as stats\n",
    "\n",
    "warnings.filterwarnings(\"ignore\")\n",
    "%matplotlib inline "
   ]
  },
  {
   "cell_type": "markdown",
   "id": "2923ee04",
   "metadata": {},
   "source": [
    "## **Przygotowanie danych**"
   ]
  },
  {
   "cell_type": "code",
   "execution_count": 49,
   "id": "45142ce6",
   "metadata": {},
   "outputs": [],
   "source": [
    "# Wczytanie danych z pliku ankieta.csv\n",
    "df = pd.read_csv(\"ankieta.csv\", sep=\";\")"
   ]
  },
  {
   "cell_type": "code",
   "execution_count": 50,
   "id": "f20208e2",
   "metadata": {},
   "outputs": [
    {
     "data": {
      "text/html": [
       "<div>\n",
       "<style scoped>\n",
       "    .dataframe tbody tr th:only-of-type {\n",
       "        vertical-align: middle;\n",
       "    }\n",
       "\n",
       "    .dataframe tbody tr th {\n",
       "        vertical-align: top;\n",
       "    }\n",
       "\n",
       "    .dataframe thead th {\n",
       "        text-align: right;\n",
       "    }\n",
       "</style>\n",
       "<table border=\"1\" class=\"dataframe\">\n",
       "  <thead>\n",
       "    <tr style=\"text-align: right;\">\n",
       "      <th></th>\n",
       "      <th>DZIAŁ</th>\n",
       "      <th>STAŻ</th>\n",
       "      <th>CZY_KIER</th>\n",
       "      <th>PYT_1</th>\n",
       "      <th>PYT_2</th>\n",
       "      <th>PYT_3</th>\n",
       "      <th>PŁEĆ</th>\n",
       "      <th>WIEK</th>\n",
       "      <th>WIEK_KAT</th>\n",
       "    </tr>\n",
       "  </thead>\n",
       "  <tbody>\n",
       "    <tr>\n",
       "      <th>195</th>\n",
       "      <td>HR</td>\n",
       "      <td>2</td>\n",
       "      <td>Nie</td>\n",
       "      <td>1</td>\n",
       "      <td>2</td>\n",
       "      <td>2</td>\n",
       "      <td>M</td>\n",
       "      <td>42</td>\n",
       "      <td>1.0</td>\n",
       "    </tr>\n",
       "    <tr>\n",
       "      <th>196</th>\n",
       "      <td>HR</td>\n",
       "      <td>2</td>\n",
       "      <td>Nie</td>\n",
       "      <td>1</td>\n",
       "      <td>-1</td>\n",
       "      <td>-1</td>\n",
       "      <td>K</td>\n",
       "      <td>35</td>\n",
       "      <td>0.0</td>\n",
       "    </tr>\n",
       "    <tr>\n",
       "      <th>197</th>\n",
       "      <td>HR</td>\n",
       "      <td>2</td>\n",
       "      <td>Nie</td>\n",
       "      <td>-1</td>\n",
       "      <td>-2</td>\n",
       "      <td>-2</td>\n",
       "      <td>K</td>\n",
       "      <td>39</td>\n",
       "      <td>1.0</td>\n",
       "    </tr>\n",
       "    <tr>\n",
       "      <th>198</th>\n",
       "      <td>HR</td>\n",
       "      <td>2</td>\n",
       "      <td>Nie</td>\n",
       "      <td>1</td>\n",
       "      <td>2</td>\n",
       "      <td>1</td>\n",
       "      <td>K</td>\n",
       "      <td>48</td>\n",
       "      <td>2.0</td>\n",
       "    </tr>\n",
       "    <tr>\n",
       "      <th>199</th>\n",
       "      <td>HR</td>\n",
       "      <td>2</td>\n",
       "      <td>Nie</td>\n",
       "      <td>1</td>\n",
       "      <td>2</td>\n",
       "      <td>2</td>\n",
       "      <td>K</td>\n",
       "      <td>42</td>\n",
       "      <td>1.0</td>\n",
       "    </tr>\n",
       "  </tbody>\n",
       "</table>\n",
       "</div>"
      ],
      "text/plain": [
       "    DZIAŁ  STAŻ CZY_KIER  PYT_1  PYT_2  PYT_3 PŁEĆ  WIEK  WIEK_KAT\n",
       "195    HR     2      Nie      1      2      2    M    42       1.0\n",
       "196    HR     2      Nie      1     -1     -1    K    35       0.0\n",
       "197    HR     2      Nie     -1     -2     -2    K    39       1.0\n",
       "198    HR     2      Nie      1      2      1    K    48       2.0\n",
       "199    HR     2      Nie      1      2      2    K    42       1.0"
      ]
     },
     "execution_count": 50,
     "metadata": {},
     "output_type": "execute_result"
    }
   ],
   "source": [
    "WIEK_KAT = np.zeros(len(df[\"WIEK\"]))\n",
    "for i in range(len(df[\"WIEK\"])): #sprawdzanie warunków\n",
    "    if 35 < df[\"WIEK\"][i] <= 45:\n",
    "        WIEK_KAT[i] = 1\n",
    "    if 45 < df[\"WIEK\"][i] <= 55:\n",
    "        WIEK_KAT[i] = 2\n",
    "    if df[\"WIEK\"][i] > 55:\n",
    "        WIEK_KAT[i] = 3\n",
    "df[\"WIEK_KAT\"] = WIEK_KAT\n",
    "df.tail() #0 jeśli < 35"
   ]
  },
  {
   "cell_type": "markdown",
   "id": "0e8173d3",
   "metadata": {},
   "source": [
    "## **Część I**"
   ]
  },
  {
   "cell_type": "markdown",
   "id": "21493511",
   "metadata": {},
   "source": [
    "### **Zadanie 1**"
   ]
  },
  {
   "cell_type": "markdown",
   "id": "6e1a4adc",
   "metadata": {},
   "source": [
    "Na podstawie danych wyznaczamy przedział ufności dla wektora prawodobieństw opisującego stopień zadowolenia ze szkoleń."
   ]
  },
  {
   "cell_type": "code",
   "execution_count": 51,
   "id": "8eaaac44",
   "metadata": {},
   "outputs": [
    {
     "data": {
      "text/html": [
       "<div>\n",
       "<style scoped>\n",
       "    .dataframe tbody tr th:only-of-type {\n",
       "        vertical-align: middle;\n",
       "    }\n",
       "\n",
       "    .dataframe tbody tr th {\n",
       "        vertical-align: top;\n",
       "    }\n",
       "\n",
       "    .dataframe thead th {\n",
       "        text-align: right;\n",
       "    }\n",
       "</style>\n",
       "<table border=\"1\" class=\"dataframe\">\n",
       "  <thead>\n",
       "    <tr style=\"text-align: right;\">\n",
       "      <th></th>\n",
       "      <th>Kategoria</th>\n",
       "      <th>Liczba odpowiedzi</th>\n",
       "      <th>Estymator p̂</th>\n",
       "      <th>95% CI dolny</th>\n",
       "      <th>95% CI górny</th>\n",
       "    </tr>\n",
       "  </thead>\n",
       "  <tbody>\n",
       "    <tr>\n",
       "      <th>0</th>\n",
       "      <td>Bardzo niezadowolony</td>\n",
       "      <td>14</td>\n",
       "      <td>0.070</td>\n",
       "      <td>0.0346</td>\n",
       "      <td>0.1054</td>\n",
       "    </tr>\n",
       "    <tr>\n",
       "      <th>1</th>\n",
       "      <td>Niezadowolony</td>\n",
       "      <td>17</td>\n",
       "      <td>0.085</td>\n",
       "      <td>0.0463</td>\n",
       "      <td>0.1237</td>\n",
       "    </tr>\n",
       "    <tr>\n",
       "      <th>2</th>\n",
       "      <td>Bez zdania</td>\n",
       "      <td>40</td>\n",
       "      <td>0.200</td>\n",
       "      <td>0.1446</td>\n",
       "      <td>0.2554</td>\n",
       "    </tr>\n",
       "    <tr>\n",
       "      <th>3</th>\n",
       "      <td>Zadowolony</td>\n",
       "      <td>100</td>\n",
       "      <td>0.500</td>\n",
       "      <td>0.4307</td>\n",
       "      <td>0.5693</td>\n",
       "    </tr>\n",
       "    <tr>\n",
       "      <th>4</th>\n",
       "      <td>Bardzo zadowolony</td>\n",
       "      <td>29</td>\n",
       "      <td>0.145</td>\n",
       "      <td>0.0962</td>\n",
       "      <td>0.1938</td>\n",
       "    </tr>\n",
       "  </tbody>\n",
       "</table>\n",
       "</div>"
      ],
      "text/plain": [
       "              Kategoria  Liczba odpowiedzi  Estymator p̂  95% CI dolny  \\\n",
       "0  Bardzo niezadowolony                 14         0.070        0.0346   \n",
       "1         Niezadowolony                 17         0.085        0.0463   \n",
       "2            Bez zdania                 40         0.200        0.1446   \n",
       "3            Zadowolony                100         0.500        0.4307   \n",
       "4     Bardzo zadowolony                 29         0.145        0.0962   \n",
       "\n",
       "   95% CI górny  \n",
       "0        0.1054  \n",
       "1        0.1237  \n",
       "2        0.2554  \n",
       "3        0.5693  \n",
       "4        0.1938  "
      ]
     },
     "metadata": {},
     "output_type": "display_data"
    }
   ],
   "source": [
    "n = 200\n",
    "\n",
    "counts = np.array([14, 17, 40, 100, 29])\n",
    "categories = [\n",
    "    \"Bardzo niezadowolony\", \n",
    "    \"Niezadowolony\", \n",
    "    \"Bez zdania\", \n",
    "    \"Zadowolony\", \n",
    "    \"Bardzo zadowolony\"\n",
    "]\n",
    "\n",
    "# Estymatory p̂\n",
    "p_hat = counts / n\n",
    "\n",
    "# Parametry dla CI\n",
    "alpha = 0.05\n",
    "z = st.norm.ppf(1 - alpha / 2)\n",
    "\n",
    "# Liczenie błędu standardowego bezpiecznie\n",
    "standard_error = np.sqrt(np.clip(p_hat * (1 - p_hat) / n, 0, None))\n",
    "\n",
    "# Przedziały ufności\n",
    "ci_lower = p_hat - z * standard_error\n",
    "ci_upper = p_hat + z * standard_error\n",
    "\n",
    "# Ograniczenie do [0, 1]\n",
    "ci_lower = np.clip(ci_lower, 0, 1)\n",
    "ci_upper = np.clip(ci_upper, 0, 1)\n",
    "\n",
    "# Tabela wyników\n",
    "df2 = pd.DataFrame({\n",
    "    \"Kategoria\": categories,\n",
    "    \"Liczba odpowiedzi\": counts,\n",
    "    \"Estymator p̂\": p_hat,\n",
    "    \"95% CI dolny\": ci_lower,\n",
    "    \"95% CI górny\": ci_upper\n",
    "})\n",
    "\n",
    "df2 = df2.round(4)\n",
    "\n",
    "display(df2)\n"
   ]
  },
  {
   "cell_type": "markdown",
   "id": "74d995e8",
   "metadata": {},
   "source": [
    "### **Zadanie 2**"
   ]
  },
  {
   "cell_type": "markdown",
   "id": "8f903000",
   "metadata": {},
   "source": [
    "Definiujemy funkcję, która wyznacza wartość poziomu krytycznego w testach chi-kwadrat Pearsona oraz chi-kwadrat największej wiarogodoności."
   ]
  },
  {
   "cell_type": "code",
   "execution_count": 52,
   "id": "700f12fc",
   "metadata": {},
   "outputs": [],
   "source": [
    "def chi_squared_test(x, p0, alpha=0.05):\n",
    "    \"\"\"\n",
    "    Test chi-kwadrat Pearsona i największej wiarygodności dla hipotezy H0: p = p0\n",
    "    \n",
    "    Parametry:\n",
    "    x     - wektor zliczeń (np. [14, 17, 40, 100, 29])\n",
    "    p0    - wektor p0 z hipotezy zerowej (np. [0.1, 0.1, 0.2, 0.4, 0.2])\n",
    "    alpha - poziom istotności (np. 0.05)\n",
    "    \n",
    "    Zwraca:\n",
    "    Słownik z wynikami testów: statystyki, p-value, decyzja o odrzuceniu H0\n",
    "    \"\"\"\n",
    "    x = np.array(x)\n",
    "    p0 = np.array(p0)\n",
    "    n = np.sum(x)\n",
    "    k = len(x)\n",
    "    \n",
    "    # Oczekiwane wartości\n",
    "    expected = n * p0\n",
    "\n",
    "    # Statystyka testu Pearsona\n",
    "    with np.errstate(divide='ignore', invalid='ignore'):\n",
    "        T_Pearson = np.nansum((x - expected)**2 / expected)\n",
    "\n",
    "    # Statystyka testu największej wiarygodności (log-likelihood ratio)\n",
    "    ratio = np.where(x == 0, 1, x / expected)\n",
    "    T_LR = 2 * np.nansum(np.where(x == 0, 0, x * np.log(ratio)))\n",
    "\n",
    "\n",
    "    # Stopnie swobody\n",
    "    df = k - 1\n",
    "\n",
    "    # Wartości krytyczne\n",
    "    critical_value = st.chi2.ppf(1 - alpha, df)\n",
    "\n",
    "    # P-value\n",
    "    pval_pearson = 1 - st.chi2.cdf(T_Pearson, df)\n",
    "    pval_lr = 1 - st.chi2.cdf(T_LR, df)\n",
    "\n",
    "    # Decyzja\n",
    "    decision_pearson = \"Odrzucamy H0\" if pval_pearson < alpha else \"Brak podstaw do odrzucenia H0\"\n",
    "    decision_lr = \"Odrzucamy H0\" if pval_lr < alpha else \"Brak podstaw do odrzucenia H0\"\n",
    "\n",
    "    return {\n",
    "        \"Test Pearsona\": {\n",
    "            \"Statystyka\": T_Pearson,\n",
    "            \"p-value\": pval_pearson,\n",
    "            \"Wartość krytyczna\": critical_value,\n",
    "            \"Decyzja\": decision_pearson\n",
    "        },\n",
    "        \"Test największej wiarygodności\": {\n",
    "            \"Statystyka\": T_LR,\n",
    "            \"p-value\": pval_lr,\n",
    "            \"Wartość krytyczna\": critical_value,\n",
    "            \"Decyzja\": decision_lr\n",
    "        },\n",
    "        \"Stopnie swobody\": df,\n",
    "        \"Poziom istotności\": alpha\n",
    "    }\n"
   ]
  },
  {
   "cell_type": "markdown",
   "id": "73fc6767",
   "metadata": {},
   "source": [
    "### **Zadanie 3**"
   ]
  },
  {
   "cell_type": "markdown",
   "id": "8df81ba1",
   "metadata": {},
   "source": [
    "Weryfikujemy hipotezę, że w grupie pracowników zatrudnionych w Dziale Produktowym rozkład odpowiedzi na pytanie \"Jak bardzo zgadzasz się ze stwierdzeniem, że firma zapewnia odpowiednie wsparcie i materiały umożliwiające skuteczne wykorzystanie w praktyce wiedzy zdobytej w trakcie szkoleń?\" jest równomierny."
   ]
  },
  {
   "cell_type": "code",
   "execution_count": 53,
   "id": "f214de18",
   "metadata": {},
   "outputs": [
    {
     "name": "stdout",
     "output_type": "stream",
     "text": [
      "PYT_1\n",
      " 1    100\n",
      " 0     40\n",
      " 2     29\n",
      "-1     17\n",
      "-2     14\n",
      "Name: count, dtype: int64\n",
      "[0.2 0.2 0.2 0.2 0.2]\n"
     ]
    },
    {
     "data": {
      "text/plain": [
       "'Statystyka chi-kwadrat Pearsona:'"
      ]
     },
     "metadata": {},
     "output_type": "display_data"
    },
    {
     "data": {
      "text/plain": [
       "{'Test Pearsona': {'Statystyka': 123.15,\n",
       "  'p-value': 0.0,\n",
       "  'Wartość krytyczna': 9.487729036781154,\n",
       "  'Decyzja': 'Odrzucamy H0'},\n",
       " 'Test największej wiarygodności': {'Statystyka': 106.11862894751276,\n",
       "  'p-value': 0.0,\n",
       "  'Wartość krytyczna': 9.487729036781154,\n",
       "  'Decyzja': 'Odrzucamy H0'},\n",
       " 'Stopnie swobody': 4,\n",
       " 'Poziom istotności': 0.05}"
      ]
     },
     "metadata": {},
     "output_type": "display_data"
    }
   ],
   "source": [
    "counts = (df[\"PYT_1\"].value_counts())\n",
    "print(counts)\n",
    "     \n",
    "p0 = np.full(len(counts), 1 / len(counts))  \n",
    "print(p0)\n",
    "\n",
    "T_Pearson= chi_squared_test(counts, p0, alpha=0.05)\n",
    "\n",
    "display(\"Statystyka chi-kwadrat Pearsona:\", T_Pearson)"
   ]
  },
  {
   "cell_type": "markdown",
   "id": "44a7b306",
   "metadata": {},
   "source": [
    "Wniosek: Odrzucamy hipotezę zerową."
   ]
  },
  {
   "cell_type": "markdown",
   "id": "f3298d20",
   "metadata": {},
   "source": [
    "## **Część II**"
   ]
  },
  {
   "cell_type": "markdown",
   "id": "c7764434",
   "metadata": {},
   "source": [
    "### **Zadanie 4**"
   ]
  },
  {
   "cell_type": "markdown",
   "id": "0dd97022",
   "metadata": {},
   "source": [
    "Do wykonania testu Fishera oraz testu Freemana-Haltona użyjemy funkcji z biblioteki *scipy.stats*."
   ]
  },
  {
   "cell_type": "code",
   "execution_count": 54,
   "id": "13e9220a",
   "metadata": {},
   "outputs": [
    {
     "name": "stdout",
     "output_type": "stream",
     "text": [
      "0.03496503496503496\n"
     ]
    }
   ],
   "source": [
    "table = np.array([[5, 2], [1, 8]]) #przykładowa tablica\n",
    "res = st.fisher_exact(table, alternative='two-sided')\n",
    "print(res.pvalue)"
   ]
  },
  {
   "cell_type": "markdown",
   "id": "ca18b6e8",
   "metadata": {},
   "source": [
    "### **Zadanie 5**"
   ]
  },
  {
   "cell_type": "markdown",
   "id": "d9ea3ea9",
   "metadata": {},
   "source": [
    "Weryfikujemy hipotezę, że zmienne PŁEĆ i CZY_KIER są niezależne."
   ]
  },
  {
   "cell_type": "code",
   "execution_count": 55,
   "id": "30bb1ce1",
   "metadata": {},
   "outputs": [
    {
     "data": {
      "text/html": [
       "<div>\n",
       "<style scoped>\n",
       "    .dataframe tbody tr th:only-of-type {\n",
       "        vertical-align: middle;\n",
       "    }\n",
       "\n",
       "    .dataframe tbody tr th {\n",
       "        vertical-align: top;\n",
       "    }\n",
       "\n",
       "    .dataframe thead th {\n",
       "        text-align: right;\n",
       "    }\n",
       "</style>\n",
       "<table border=\"1\" class=\"dataframe\">\n",
       "  <thead>\n",
       "    <tr style=\"text-align: right;\">\n",
       "      <th>CZY_KIER</th>\n",
       "      <th>Nie</th>\n",
       "      <th>Tak</th>\n",
       "    </tr>\n",
       "    <tr>\n",
       "      <th>PŁEĆ</th>\n",
       "      <th></th>\n",
       "      <th></th>\n",
       "    </tr>\n",
       "  </thead>\n",
       "  <tbody>\n",
       "    <tr>\n",
       "      <th>K</th>\n",
       "      <td>63</td>\n",
       "      <td>8</td>\n",
       "    </tr>\n",
       "    <tr>\n",
       "      <th>M</th>\n",
       "      <td>110</td>\n",
       "      <td>19</td>\n",
       "    </tr>\n",
       "  </tbody>\n",
       "</table>\n",
       "</div>"
      ],
      "text/plain": [
       "CZY_KIER  Nie  Tak\n",
       "PŁEĆ              \n",
       "K          63    8\n",
       "M         110   19"
      ]
     },
     "metadata": {},
     "output_type": "display_data"
    },
    {
     "data": {
      "text/plain": [
       "{'p-value': 0.6659028889666552,\n",
       " 'Decyzja': 'Brak podstaw do odrzucenia H₀ - zmienne są niezależne'}"
      ]
     },
     "metadata": {},
     "output_type": "display_data"
    }
   ],
   "source": [
    "df2 = pd.crosstab(df['PŁEĆ'], df['CZY_KIER'])\n",
    "display(df2)\n",
    "\n",
    "odds_ratio, p_value = st.fisher_exact(df2, alternative='two-sided')\n",
    "    \n",
    "decision = \"Odrzucamy H₀ – zmienne są zależne\" if p_value < 0.05 else \"Brak podstaw do odrzucenia H₀ - zmienne są niezależne\"\n",
    "\n",
    "display({\n",
    "    \"p-value\": p_value,\n",
    "    \"Decyzja\": decision\n",
    "})"
   ]
  },
  {
   "cell_type": "markdown",
   "id": "2a4d1c4a",
   "metadata": {},
   "source": [
    "Mimo braku podstaw do odrzucenia $H_0$, nie możemy wnioskować, że prawdopodobieńśtwo tego, że na stanowisku kierowniczym jest kobieta jest równe prawdopodobieństwu tego, że na stanowisku kierowniczym jest mężczyzna, ponieważ w firmie pracuje więcej mężczyzn."
   ]
  },
  {
   "cell_type": "markdown",
   "id": "32e79580",
   "metadata": {},
   "source": [
    "### **Zadanie 6**"
   ]
  },
  {
   "cell_type": "markdown",
   "id": "9a00de1f",
   "metadata": {},
   "source": [
    "Korzystamy z testu Freemana-Haltona do zweryfikowania hipotez odnośnie analizowanych danych."
   ]
  },
  {
   "cell_type": "code",
   "execution_count": 56,
   "id": "f70b92da",
   "metadata": {},
   "outputs": [],
   "source": [
    "def fisher_monte_carlo_from_table(data1, data2, B=10000, random_state=None):\n",
    "    data_frame = pd.crosstab(df[data1], df[data2])\n",
    "\n",
    "    np.random.seed(random_state)\n",
    "\n",
    "    # Oryginalna statystyka chi-kwadrat\n",
    "    chi2_obs, _, _, _ = st.chi2_contingency(data_frame, correction=False)\n",
    "\n",
    "    # Rekonstrukcja \"płaskiego\" dataframe do permutacji\n",
    "    expanded_df = df[[data1, data2]]\n",
    "    \n",
    "    shuffled = np.random.permutation(expanded_df[data2])\n",
    "    simulated_table = pd.crosstab(expanded_df[data1], shuffled)\n",
    "\n",
    "    # Symulacje\n",
    "    count = 0\n",
    "    for _ in range(B):\n",
    "        shuffled = np.random.permutation(expanded_df[data2])\n",
    "        simulated_table = pd.crosstab(expanded_df[data1], shuffled)\n",
    "        \n",
    "        # Dopasuj do kształtu oryginału (w razie braków)\n",
    "        simulated_table = simulated_table.reindex(index=data_frame.index, columns=data_frame.columns, fill_value=0)\n",
    "        \n",
    "        chi2_sim, _, _, _ = st.chi2_contingency(simulated_table, correction=False)\n",
    "        \n",
    "        if chi2_sim >= chi2_obs:\n",
    "            count += 1\n",
    "\n",
    "    p_value = count / B\n",
    "    return chi2_obs, p_value"
   ]
  },
  {
   "cell_type": "code",
   "execution_count": 57,
   "id": "36171a7f",
   "metadata": {},
   "outputs": [],
   "source": [
    "def check_pvalue(alpha=0.05):\n",
    "    if p_value < alpha:\n",
    "        print(\"\\nWniosek: Odrzucamy hipotezę zerową (jest zależność).\")\n",
    "    else:\n",
    "        print(\"\\nWniosek: Brak podstaw do odrzucenia hipotezy zerowej (brak zależności).\")"
   ]
  },
  {
   "cell_type": "code",
   "execution_count": 58,
   "id": "e6745825",
   "metadata": {},
   "outputs": [],
   "source": [
    "alpha=0.05"
   ]
  },
  {
   "cell_type": "markdown",
   "id": "11022d05",
   "metadata": {},
   "source": [
    "a) Hipoteza: zajmowanie stanowiska kierowniczego nie zależy od wieku "
   ]
  },
  {
   "cell_type": "code",
   "execution_count": 59,
   "id": "b9c4aed5",
   "metadata": {},
   "outputs": [
    {
     "name": "stdout",
     "output_type": "stream",
     "text": [
      "Chi² = 1.0803155311825832\n",
      "P-wartość (Monte Carlo) = 0.788\n",
      "\n",
      "Wniosek: Brak podstaw do odrzucenia hipotezy zerowej (brak zależności).\n"
     ]
    }
   ],
   "source": [
    "# Przykład użycia:\n",
    "chi2_obs, p_value = fisher_monte_carlo_from_table('WIEK_KAT', 'CZY_KIER', B=1000)\n",
    "print(f\"Chi² = {chi2_obs}\")\n",
    "print(f\"P-wartość (Monte Carlo) = {p_value}\")\n",
    "\n",
    "check_pvalue(alpha)"
   ]
  },
  {
   "cell_type": "markdown",
   "id": "72a823d3",
   "metadata": {},
   "source": [
    "b) Hipoteza: zajmowanie stanowiska kierowniczego nie zależy od stażu pracy"
   ]
  },
  {
   "cell_type": "code",
   "execution_count": 60,
   "id": "d9cdf761",
   "metadata": {},
   "outputs": [
    {
     "name": "stdout",
     "output_type": "stream",
     "text": [
      "Chi² = 23.179908824020515\n",
      "P-wartość (Monte Carlo) = 0.0\n",
      "\n",
      "Wniosek: Odrzucamy hipotezę zerową (jest zależność).\n"
     ]
    }
   ],
   "source": [
    "chi2_obs, p_value = fisher_monte_carlo_from_table('STAŻ', 'CZY_KIER', B=1000)\n",
    "print(f\"Chi² = {chi2_obs}\")\n",
    "print(f\"P-wartość (Monte Carlo) = {p_value}\")\n",
    "\n",
    "check_pvalue(alpha)"
   ]
  },
  {
   "cell_type": "markdown",
   "id": "9801a25a",
   "metadata": {},
   "source": [
    "c) Hipoteza: stopień zadowolenia ze szkoleń w kontekście dopasowania do indywidualnych potrzeb\n",
    "w pierwszym badanym okresie nie zależy od zajmowanego stanowiska"
   ]
  },
  {
   "cell_type": "code",
   "execution_count": 61,
   "id": "7c98bef9",
   "metadata": {},
   "outputs": [
    {
     "name": "stdout",
     "output_type": "stream",
     "text": [
      "Chi² = 13.11369172640849\n",
      "P-wartość (Monte Carlo) = 0.029\n",
      "\n",
      "Wniosek: Odrzucamy hipotezę zerową (jest zależność).\n"
     ]
    }
   ],
   "source": [
    "chi2_obs, p_value = fisher_monte_carlo_from_table('PYT_2', 'CZY_KIER', B=1000)\n",
    "print(f\"Chi² = {chi2_obs}\")\n",
    "print(f\"P-wartość (Monte Carlo) = {p_value}\")\n",
    "\n",
    "check_pvalue(alpha)"
   ]
  },
  {
   "cell_type": "markdown",
   "id": "487fa8d3",
   "metadata": {},
   "source": [
    "d) Hipoteza: stopień zadowolenia ze szkoleń w kontekście dopasowania do indywidualnych potrzeb w\n",
    "pierwszym badanym okresie nie zależy od stażu "
   ]
  },
  {
   "cell_type": "code",
   "execution_count": 62,
   "id": "7f0b7832",
   "metadata": {},
   "outputs": [
    {
     "name": "stdout",
     "output_type": "stream",
     "text": [
      "Chi² = 26.1193138645\n",
      "P-wartość (Monte Carlo) = 0.001\n",
      "\n",
      "Wniosek: Odrzucamy hipotezę zerową (jest zależność).\n"
     ]
    }
   ],
   "source": [
    "chi2_obs, p_value = fisher_monte_carlo_from_table('PYT_2', 'STAŻ', B=1000)\n",
    "print(f\"Chi² = {chi2_obs}\")\n",
    "print(f\"P-wartość (Monte Carlo) = {p_value}\")\n",
    "\n",
    "check_pvalue(alpha)"
   ]
  },
  {
   "cell_type": "markdown",
   "id": "4fe11387",
   "metadata": {},
   "source": [
    "e) Hipoteza: stopień zadowolenia ze szkoleń w kontekście dopasowania do indywidualnych potrzeb w\n",
    "pierwszym badanym okresie nie zależy od płci"
   ]
  },
  {
   "cell_type": "code",
   "execution_count": 63,
   "id": "1f4dc01f",
   "metadata": {},
   "outputs": [
    {
     "name": "stdout",
     "output_type": "stream",
     "text": [
      "Chi² = 2.2700823224897917\n",
      "P-wartość (Monte Carlo) = 0.555\n",
      "\n",
      "Wniosek: Brak podstaw do odrzucenia hipotezy zerowej (brak zależności).\n"
     ]
    }
   ],
   "source": [
    "chi2_obs, p_value = fisher_monte_carlo_from_table('PYT_2', 'PŁEĆ', B=1000)\n",
    "print(f\"Chi² = {chi2_obs}\")\n",
    "print(f\"P-wartość (Monte Carlo) = {p_value}\")\n",
    "\n",
    "check_pvalue(alpha)"
   ]
  },
  {
   "cell_type": "markdown",
   "id": "11af1b37",
   "metadata": {},
   "source": [
    "f) Hipoteza: stopień zadowolenia ze szkoleń w kontekście dopasowania do indywidualnych potrzeb w\n",
    "pierwszym badanym okresie nie zależy od wieku"
   ]
  },
  {
   "cell_type": "code",
   "execution_count": 64,
   "id": "7cb0f97a",
   "metadata": {},
   "outputs": [
    {
     "name": "stdout",
     "output_type": "stream",
     "text": [
      "Chi² = 9.845826003518312\n",
      "P-wartość (Monte Carlo) = 0.348\n",
      "\n",
      "Wniosek: Brak podstaw do odrzucenia hipotezy zerowej (brak zależności).\n"
     ]
    }
   ],
   "source": [
    "chi2_obs, p_value = fisher_monte_carlo_from_table('PYT_2', 'WIEK_KAT', B=1000)\n",
    "print(f\"Chi² = {chi2_obs}\")\n",
    "print(f\"P-wartość (Monte Carlo) = {p_value}\")\n",
    "\n",
    "check_pvalue(alpha)"
   ]
  },
  {
   "cell_type": "code",
   "execution_count": 65,
   "id": "2712f2f2",
   "metadata": {},
   "outputs": [
    {
     "data": {
      "text/html": [
       "<div>\n",
       "<style scoped>\n",
       "    .dataframe tbody tr th:only-of-type {\n",
       "        vertical-align: middle;\n",
       "    }\n",
       "\n",
       "    .dataframe tbody tr th {\n",
       "        vertical-align: top;\n",
       "    }\n",
       "\n",
       "    .dataframe thead th {\n",
       "        text-align: right;\n",
       "    }\n",
       "</style>\n",
       "<table border=\"1\" class=\"dataframe\">\n",
       "  <thead>\n",
       "    <tr style=\"text-align: right;\">\n",
       "      <th></th>\n",
       "      <th>DZIAŁ</th>\n",
       "      <th>STAŻ</th>\n",
       "      <th>CZY_KIER</th>\n",
       "      <th>PYT_1</th>\n",
       "      <th>PYT_2</th>\n",
       "      <th>PYT_3</th>\n",
       "      <th>PŁEĆ</th>\n",
       "      <th>WIEK</th>\n",
       "      <th>WIEK_KAT</th>\n",
       "      <th>CZY_ZADOW</th>\n",
       "    </tr>\n",
       "  </thead>\n",
       "  <tbody>\n",
       "    <tr>\n",
       "      <th>195</th>\n",
       "      <td>HR</td>\n",
       "      <td>2</td>\n",
       "      <td>Nie</td>\n",
       "      <td>1</td>\n",
       "      <td>2</td>\n",
       "      <td>2</td>\n",
       "      <td>M</td>\n",
       "      <td>42</td>\n",
       "      <td>1.0</td>\n",
       "      <td>1.0</td>\n",
       "    </tr>\n",
       "    <tr>\n",
       "      <th>196</th>\n",
       "      <td>HR</td>\n",
       "      <td>2</td>\n",
       "      <td>Nie</td>\n",
       "      <td>1</td>\n",
       "      <td>-1</td>\n",
       "      <td>-1</td>\n",
       "      <td>K</td>\n",
       "      <td>35</td>\n",
       "      <td>0.0</td>\n",
       "      <td>-1.0</td>\n",
       "    </tr>\n",
       "    <tr>\n",
       "      <th>197</th>\n",
       "      <td>HR</td>\n",
       "      <td>2</td>\n",
       "      <td>Nie</td>\n",
       "      <td>-1</td>\n",
       "      <td>-2</td>\n",
       "      <td>-2</td>\n",
       "      <td>K</td>\n",
       "      <td>39</td>\n",
       "      <td>1.0</td>\n",
       "      <td>-1.0</td>\n",
       "    </tr>\n",
       "    <tr>\n",
       "      <th>198</th>\n",
       "      <td>HR</td>\n",
       "      <td>2</td>\n",
       "      <td>Nie</td>\n",
       "      <td>1</td>\n",
       "      <td>2</td>\n",
       "      <td>1</td>\n",
       "      <td>K</td>\n",
       "      <td>48</td>\n",
       "      <td>2.0</td>\n",
       "      <td>1.0</td>\n",
       "    </tr>\n",
       "    <tr>\n",
       "      <th>199</th>\n",
       "      <td>HR</td>\n",
       "      <td>2</td>\n",
       "      <td>Nie</td>\n",
       "      <td>1</td>\n",
       "      <td>2</td>\n",
       "      <td>2</td>\n",
       "      <td>K</td>\n",
       "      <td>42</td>\n",
       "      <td>1.0</td>\n",
       "      <td>1.0</td>\n",
       "    </tr>\n",
       "  </tbody>\n",
       "</table>\n",
       "</div>"
      ],
      "text/plain": [
       "    DZIAŁ  STAŻ CZY_KIER  PYT_1  PYT_2  PYT_3 PŁEĆ  WIEK  WIEK_KAT  CZY_ZADOW\n",
       "195    HR     2      Nie      1      2      2    M    42       1.0        1.0\n",
       "196    HR     2      Nie      1     -1     -1    K    35       0.0       -1.0\n",
       "197    HR     2      Nie     -1     -2     -2    K    39       1.0       -1.0\n",
       "198    HR     2      Nie      1      2      1    K    48       2.0        1.0\n",
       "199    HR     2      Nie      1      2      2    K    42       1.0        1.0"
      ]
     },
     "execution_count": 65,
     "metadata": {},
     "output_type": "execute_result"
    }
   ],
   "source": [
    "CZY_ZADOW = np.zeros(len(df[\"PYT_2\"]))\n",
    "for i in range(len(df[\"PYT_2\"])):\n",
    "    CZY_ZADOW[i] = np.sign(df[\"PYT_2\"][i]) #pozytywna odpowiedź > 0, negatywna < 0\n",
    "df[\"CZY_ZADOW\"] = CZY_ZADOW\n",
    "df.tail()"
   ]
  },
  {
   "cell_type": "code",
   "execution_count": 66,
   "id": "9fc62923",
   "metadata": {},
   "outputs": [
    {
     "name": "stdout",
     "output_type": "stream",
     "text": [
      "Chi² = 0.08183603554685095\n",
      "P-wartość (Monte Carlo) = 0.827\n",
      "\n",
      "Wniosek: Brak podstaw do odrzucenia hipotezy zerowej (brak zależności).\n"
     ]
    }
   ],
   "source": [
    "chi2_obs, p_value = fisher_monte_carlo_from_table('CZY_ZADOW', 'CZY_KIER', B=1000)\n",
    "print(f\"Chi² = {chi2_obs}\")\n",
    "print(f\"P-wartość (Monte Carlo) = {p_value}\")\n",
    "\n",
    "check_pvalue(alpha)"
   ]
  },
  {
   "cell_type": "code",
   "execution_count": 67,
   "id": "8395e3e8",
   "metadata": {},
   "outputs": [
    {
     "name": "stdout",
     "output_type": "stream",
     "text": [
      "Chi² = 1.7773575924124572\n",
      "P-wartość (Monte Carlo) = 0.401\n",
      "\n",
      "Wniosek: Brak podstaw do odrzucenia hipotezy zerowej (brak zależności).\n"
     ]
    }
   ],
   "source": [
    "chi2_obs, p_value = fisher_monte_carlo_from_table('CZY_ZADOW', 'STAŻ', B=1000)\n",
    "print(f\"Chi² = {chi2_obs}\")\n",
    "print(f\"P-wartość (Monte Carlo) = {p_value}\")\n",
    "\n",
    "check_pvalue(alpha)"
   ]
  },
  {
   "cell_type": "code",
   "execution_count": 68,
   "id": "e478e84b",
   "metadata": {},
   "outputs": [
    {
     "name": "stdout",
     "output_type": "stream",
     "text": [
      "Chi² = 0.23290747005849552\n",
      "P-wartość (Monte Carlo) = 0.65\n",
      "\n",
      "Wniosek: Brak podstaw do odrzucenia hipotezy zerowej (brak zależności).\n"
     ]
    }
   ],
   "source": [
    "chi2_obs, p_value = fisher_monte_carlo_from_table('CZY_ZADOW', 'PŁEĆ', B=1000)\n",
    "print(f\"Chi² = {chi2_obs}\")\n",
    "print(f\"P-wartość (Monte Carlo) = {p_value}\")\n",
    "\n",
    "check_pvalue(alpha)"
   ]
  },
  {
   "cell_type": "code",
   "execution_count": 69,
   "id": "3b9306e2",
   "metadata": {},
   "outputs": [
    {
     "name": "stdout",
     "output_type": "stream",
     "text": [
      "Chi² = 3.5157335639069873\n",
      "P-wartość (Monte Carlo) = 0.315\n",
      "\n",
      "Wniosek: Brak podstaw do odrzucenia hipotezy zerowej (brak zależności).\n"
     ]
    }
   ],
   "source": [
    "chi2_obs, p_value = fisher_monte_carlo_from_table('CZY_ZADOW', 'WIEK_KAT', B=1000)\n",
    "print(f\"Chi² = {chi2_obs}\")\n",
    "print(f\"P-wartość (Monte Carlo) = {p_value}\")\n",
    "\n",
    "check_pvalue(alpha)"
   ]
  },
  {
   "cell_type": "markdown",
   "id": "a441869f",
   "metadata": {},
   "source": [
    "## **Część III**"
   ]
  },
  {
   "cell_type": "markdown",
   "id": "5cb592ee",
   "metadata": {},
   "source": [
    "### **Zadanie 7**"
   ]
  },
  {
   "cell_type": "markdown",
   "id": "74bf3925",
   "metadata": {},
   "source": [
    "Korzystamy z funckji służącej do wykonywania testu niezależności chi-kwadrat."
   ]
  },
  {
   "cell_type": "code",
   "execution_count": 70,
   "id": "d67b69be",
   "metadata": {},
   "outputs": [
    {
     "name": "stdout",
     "output_type": "stream",
     "text": [
      "P-wartość = 0.007798710072738145\n"
     ]
    }
   ],
   "source": [
    "obs = np.array([[1, 7], [10, 2]]) #przykładowe wartości\n",
    "res = st.chi2_contingency(obs)\n",
    "stat, p_value, dof, expected_freq_array = res[0], res[1], res[2], res[3]\n",
    "print(f\"P-wartość = {p_value}\")"
   ]
  },
  {
   "cell_type": "markdown",
   "id": "179f6d35",
   "metadata": {},
   "source": [
    "Wartość p to prawdopodobieństwo, że statystyka testowa byłaby tak samo lub bardziej skrajna niż obserwowana, przy założeniu, że hipoteza zerowa (że nie ma znaczącej relacji między dwoma zmiennymi) jest prawdziwa. Mała wartość p (zwykle mniejsza niż 0,05) wskazywałaby, że obserwowane częstotliwości znacznie różnią się od oczekiwanych częstotliwości, a hipotezę zerową można odrzucić - występuje zależność między zmiennymi."
   ]
  },
  {
   "cell_type": "code",
   "execution_count": 71,
   "id": "466e48f5",
   "metadata": {},
   "outputs": [],
   "source": [
    "def interpret_chi2(data, alpha=0.05):\n",
    "    p = st.chi2_contingency(data)[1]\n",
    "    print(f\"p = {p}\")\n",
    "    if p <= alpha:\n",
    "        print('Odrzucamy hipotezę zerową o niezależności.')\n",
    "    else:\n",
    "        print('Nie ma podstaw by odrzucić hipotezę zerową o niezależności.')"
   ]
  },
  {
   "cell_type": "code",
   "execution_count": 72,
   "id": "bd468ede",
   "metadata": {},
   "outputs": [
    {
     "name": "stdout",
     "output_type": "stream",
     "text": [
      "p = 0.007798710072738145\n",
      "Odrzucamy hipotezę zerową o niezależności.\n"
     ]
    }
   ],
   "source": [
    "interpret_chi2(obs)"
   ]
  },
  {
   "cell_type": "markdown",
   "id": "5b5cc5a1",
   "metadata": {},
   "source": [
    "### **Zadanie 8**"
   ]
  },
  {
   "cell_type": "markdown",
   "id": "fc31e0d8",
   "metadata": {},
   "source": [
    "Weryfikujemy hipotezę, że stopień zadowolenia ze szkoleń nie zależy od zajmowanego stanowiska."
   ]
  },
  {
   "cell_type": "code",
   "execution_count": 73,
   "id": "188b4cd6",
   "metadata": {},
   "outputs": [],
   "source": [
    "df[\"CZY_KIER_NUM\"] = np.zeros(200) #tworzymy kolumnę, która przyjmuje wartości numeryczne\n",
    "for i in range(len(df[\"CZY_KIER\"])):\n",
    "    if df[\"CZY_KIER\"][i] == \"Tak\":\n",
    "        df[\"CZY_KIER_NUM\"][i] = 1 "
   ]
  },
  {
   "cell_type": "code",
   "execution_count": 74,
   "id": "f7591d4c",
   "metadata": {},
   "outputs": [
    {
     "name": "stdout",
     "output_type": "stream",
     "text": [
      "Statystyka chi-kwadrat: 13.11369172640849\n",
      "P-wartość: 0.0043970813557677796\n"
     ]
    }
   ],
   "source": [
    "contingency_table = pd.crosstab(df[\"CZY_KIER_NUM\"], df[\"PYT_2\"])\n",
    "chi2_stat, p_value, dof, expected = st.chi2_contingency(contingency_table)\n",
    "\n",
    "print(\"Statystyka chi-kwadrat:\", chi2_stat)\n",
    "print(\"P-wartość:\", p_value)"
   ]
  },
  {
   "cell_type": "code",
   "execution_count": 75,
   "id": "1d6cbbd8",
   "metadata": {},
   "outputs": [
    {
     "data": {
      "text/html": [
       "<div>\n",
       "<style scoped>\n",
       "    .dataframe tbody tr th:only-of-type {\n",
       "        vertical-align: middle;\n",
       "    }\n",
       "\n",
       "    .dataframe tbody tr th {\n",
       "        vertical-align: top;\n",
       "    }\n",
       "\n",
       "    .dataframe thead th {\n",
       "        text-align: right;\n",
       "    }\n",
       "</style>\n",
       "<table border=\"1\" class=\"dataframe\">\n",
       "  <thead>\n",
       "    <tr style=\"text-align: right;\">\n",
       "      <th>PYT_2</th>\n",
       "      <th>-2</th>\n",
       "      <th>-1</th>\n",
       "      <th>1</th>\n",
       "      <th>2</th>\n",
       "    </tr>\n",
       "    <tr>\n",
       "      <th>CZY_KIER_NUM</th>\n",
       "      <th></th>\n",
       "      <th></th>\n",
       "      <th></th>\n",
       "      <th></th>\n",
       "    </tr>\n",
       "  </thead>\n",
       "  <tbody>\n",
       "    <tr>\n",
       "      <th>0.0</th>\n",
       "      <td>64</td>\n",
       "      <td>18</td>\n",
       "      <td>0</td>\n",
       "      <td>91</td>\n",
       "    </tr>\n",
       "    <tr>\n",
       "      <th>1.0</th>\n",
       "      <td>10</td>\n",
       "      <td>2</td>\n",
       "      <td>2</td>\n",
       "      <td>13</td>\n",
       "    </tr>\n",
       "  </tbody>\n",
       "</table>\n",
       "</div>"
      ],
      "text/plain": [
       "PYT_2         -2  -1   1   2\n",
       "CZY_KIER_NUM                \n",
       "0.0           64  18   0  91\n",
       "1.0           10   2   2  13"
      ]
     },
     "metadata": {},
     "output_type": "display_data"
    }
   ],
   "source": [
    "display(contingency_table)"
   ]
  },
  {
   "cell_type": "code",
   "execution_count": 76,
   "id": "b894cdc5",
   "metadata": {},
   "outputs": [
    {
     "name": "stdout",
     "output_type": "stream",
     "text": [
      "p = 0.0043970813557677796\n",
      "Odrzucamy hipotezę zerową o niezależności.\n"
     ]
    }
   ],
   "source": [
    "interpret_chi2(contingency_table)"
   ]
  },
  {
   "cell_type": "code",
   "execution_count": 77,
   "id": "402d71e2",
   "metadata": {},
   "outputs": [
    {
     "data": {
      "image/png": "[encoded data removed]",
      "text/plain": [
       "<Figure size 800x500 with 2 Axes>"
      ]
     },
     "metadata": {},
     "output_type": "display_data"
    }
   ],
   "source": [
    "residuals = (contingency_table - expected) / np.sqrt(expected)\n",
    "\n",
    "plt.figure(figsize=(8, 5))\n",
    "sns.heatmap(residuals, annot=True, cmap=\"coolwarm\", center=0, fmt=\".2f\")\n",
    "plt.title(\"Wykres asocjacyjny reszt\")\n",
    "plt.xlabel(\"PYT_2\")\n",
    "plt.ylabel(\"CZY_KIER\")\n",
    "plt.show()"
   ]
  },
  {
   "cell_type": "markdown",
   "id": "7ee335cd",
   "metadata": {},
   "source": [
    "Wnioski:\n",
    "P-wartość jest poniżej zakładanego poziomu 0.05 co oznacza, że odrzucamy hipotezę zerową i obserwujemy zależność. Wartości dodatnie heatmapy, np. w punkcie (1.0, 1), gdzie wartość wynosi 3.33 wskazują, że dana kombinacja występuje częściej niż przewidywano. W tym przypadku oznacza to, że najczęściej pojawiającą się kombinacją było \"zgadzam się\" wśród osób o stanowisku kierowniczym. Natomiast odpowiedzi \"zgadzam się\" u osób bez stanowiska kierowniczego występowały wyraźnie rzadziej niż zakładała hipoteza. Z kolei punkty bliskie zeru nie odbiegają znacząco od oczekiwanych wartości.\n"
   ]
  },
  {
   "cell_type": "markdown",
   "id": "40a1d5ab",
   "metadata": {},
   "source": [
    "### **Zadanie 9**"
   ]
  },
  {
   "cell_type": "markdown",
   "id": "8c45c6a1",
   "metadata": {},
   "source": [
    "Porównujemy test Fishera z testem chi-kwadrat."
   ]
  },
  {
   "cell_type": "code",
   "execution_count": 78,
   "id": "b6c89145",
   "metadata": {},
   "outputs": [
    {
     "name": "stdout",
     "output_type": "stream",
     "text": [
      "n = 50: Test Fishera p = 0.0511, Test chi-kwadrat p = 0.0730\n",
      "n = 100: Test Fishera p = 0.1785, Test chi-kwadrat p = 0.2020\n",
      "n = 1000: Test Fishera p = 0.0000, Test chi-kwadrat p = 0.0000\n"
     ]
    }
   ],
   "source": [
    "p_matrix = np.array([[1/40, 3/40], [19/40, 17/40]])\n",
    "\n",
    "def generate_data(n, p_matrix):\n",
    "    data = np.random.multinomial(n, p_matrix.flatten()).reshape(2, 2)\n",
    "    return data\n",
    "\n",
    "n_values = [50, 100, 1000]\n",
    "for n in n_values:\n",
    "    data = generate_data(n, p_matrix)\n",
    "    fisher_p_value = st.fisher_exact(data)[1]\n",
    "    chi2_p_value = st.chi2_contingency(data)[1]\n",
    "    print(f\"n = {n}: Test Fishera p = {fisher_p_value:.4f}, Test chi-kwadrat p = {chi2_p_value:.4f}\")"
   ]
  },
  {
   "cell_type": "markdown",
   "id": "72caa6b1",
   "metadata": {},
   "source": [
    "Wnioski: Im większy rozmiar próby, tym testy są skuteczniejsze. Test Fishera jest dokładniejszy od testu chi-kwadrat przy mniejszych próbkach."
   ]
  },
  {
   "cell_type": "markdown",
   "id": "de1240d3",
   "metadata": {},
   "source": [
    "### **Zadanie 10**"
   ]
  },
  {
   "cell_type": "markdown",
   "id": "8b5e9532",
   "metadata": {},
   "source": [
    "Definiujemy funkcję, która oblicza wartość poziomu krytycznego w teście niezależności opartym na na ilorazie wiarogodności."
   ]
  },
  {
   "cell_type": "code",
   "execution_count": 79,
   "id": "209389c1",
   "metadata": {},
   "outputs": [],
   "source": [
    "def log_likelihood_p_value(board):\n",
    "    p_value = st.chi2_contingency(board, lambda_=\"log-likelihood\")[1] #parametr log-likelihood wskazuje na użycie ilorazu wiarogodności\n",
    "    return p_value"
   ]
  },
  {
   "cell_type": "code",
   "execution_count": 80,
   "id": "d2137230",
   "metadata": {},
   "outputs": [
    {
     "name": "stdout",
     "output_type": "stream",
     "text": [
      "P-wartość: 0.039689561667618375\n"
     ]
    }
   ],
   "source": [
    "contingency_table = pd.crosstab(df[\"CZY_KIER_NUM\"], df[\"PYT_2\"])\n",
    "p_value = log_likelihood_p_value(contingency_table)\n",
    "print(\"P-wartość:\", p_value)"
   ]
  },
  {
   "cell_type": "markdown",
   "id": "84d74bd1",
   "metadata": {},
   "source": [
    "Wnioski: W teście opartym na ilorazie wiarogodności p-wartość wynosi ok. 0.0397, nieznacznie większą wartość uzyskaliśmy w zadaniu ósmym, jednak obie metody prowadzą do odrzucenia hipotezy zerowej o niezależności danych."
   ]
  },
  {
   "cell_type": "markdown",
   "id": "26614bce",
   "metadata": {},
   "source": [
    "## **Część IV i V**"
   ]
  },
  {
   "cell_type": "markdown",
   "id": "348026ab",
   "metadata": {},
   "source": [
    "### **Zadanie 11**"
   ]
  },
  {
   "cell_type": "markdown",
   "id": "2e6f3cbd",
   "metadata": {},
   "source": [
    "Badamy związek pomiędzy paleniem papierosów a ́smiercią z powodu raka płuc oraz związek pomiędzy paleniem\n",
    "papierosów a śmiercią z powodu choroby serca."
   ]
  },
  {
   "cell_type": "code",
   "execution_count": 81,
   "id": "072abe88",
   "metadata": {},
   "outputs": [
    {
     "name": "stdout",
     "output_type": "stream",
     "text": [
      "Różnica proporcji (rak płuc): 0.001300\n",
      "Różnica proporcji (choroba serca): 0.002560\n",
      "Ryzyko względne (rak płuc): 14.00\n",
      "Ryzyko względne (choroba serca): 1.62\n",
      "Iloraz szans (rak płuc): 14.02\n",
      "Iloraz szans (choroba serca): 1.62\n"
     ]
    }
   ],
   "source": [
    "# Data\n",
    "p_lung_cancer_smokers = 0.00140\n",
    "p_lung_cancer_nonsmokers = 0.00010\n",
    "p_heart_disease_smokers = 0.00669\n",
    "p_heart_disease_nonsmokers = 0.00413\n",
    "\n",
    "difference_lung_cancer = p_lung_cancer_smokers - p_lung_cancer_nonsmokers\n",
    "difference_heart_disease = p_heart_disease_smokers - p_heart_disease_nonsmokers\n",
    "\n",
    "relative_risk_lung_cancer = p_lung_cancer_smokers / p_lung_cancer_nonsmokers\n",
    "relative_risk_heart_disease = p_heart_disease_smokers / p_heart_disease_nonsmokers\n",
    "\n",
    "odds_ratio_lung_cancer = (p_lung_cancer_smokers / (1 - p_lung_cancer_smokers)) / (p_lung_cancer_nonsmokers / (1 - p_lung_cancer_nonsmokers))\n",
    "odds_ratio_heart_disease = (p_heart_disease_smokers / (1 - p_heart_disease_smokers)) / (p_heart_disease_nonsmokers / (1 - p_heart_disease_nonsmokers))\n",
    "\n",
    "print(f\"Różnica proporcji (rak płuc): {difference_lung_cancer:.6f}\")\n",
    "print(f\"Różnica proporcji (choroba serca): {difference_heart_disease:.6f}\")\n",
    "print(f\"Ryzyko względne (rak płuc): {relative_risk_lung_cancer:.2f}\")\n",
    "print(f\"Ryzyko względne (choroba serca): {relative_risk_heart_disease:.2f}\")\n",
    "print(f\"Iloraz szans (rak płuc): {odds_ratio_lung_cancer:.2f}\")\n",
    "print(f\"Iloraz szans (choroba serca): {odds_ratio_heart_disease:.2f}\")"
   ]
  },
  {
   "cell_type": "markdown",
   "id": "324cc119",
   "metadata": {},
   "source": [
    "Różnica proporcji pokazuje, że palenie zwiększa ryzyko śmierci zarówno z powodu raka płuc, jak i choroby serca. Ryzyko względne dla raka płuc jest większe, co wskazuje, że palenie papierosów zwiększa ryzyko raka płuc bardziej niż choroby serca. Iloraz szans także wskazuje na silniejszy związek między paleniem a rakiem płuc. Możemy zatem wyciągnąć wnioski, że palenie papierosów ma silniejszy wpływ na ryzyko raka płuc niż na ryzyko choroby serca."
   ]
  },
  {
   "cell_type": "markdown",
   "id": "f4b5520a",
   "metadata": {},
   "source": [
    "### **Zadanie 12**"
   ]
  },
  {
   "cell_type": "markdown",
   "id": "37b23776",
   "metadata": {},
   "source": [
    "Zajmujemy się wyznaczeniem odpowiednich wartości prawdopodobieństwa warunkowego, różnicy proporcji, ryzyka względnego i ilorazu szans. "
   ]
  },
  {
   "cell_type": "code",
   "execution_count": 82,
   "id": "94c8ca67",
   "metadata": {},
   "outputs": [],
   "source": [
    "fatal_no_seatbelt = 1085\n",
    "nonfatal_no_seatbelt = 55623\n",
    "fatal_seatbelt = 703\n",
    "nonfatal_seatbelt = 441239"
   ]
  },
  {
   "cell_type": "markdown",
   "id": "3b5326c4",
   "metadata": {},
   "source": [
    "### a)"
   ]
  },
  {
   "cell_type": "code",
   "execution_count": 83,
   "id": "de4b6b50",
   "metadata": {},
   "outputs": [
    {
     "name": "stdout",
     "output_type": "stream",
     "text": [
      "Warunkowe prawdopodobieństwo śmierci bez pasów: 0.019133\n",
      "Warunkowe prawdopodobieństwo śmierci z pasami: 0.001591\n"
     ]
    }
   ],
   "source": [
    "p_fatal_no_seatbelt = fatal_no_seatbelt / (fatal_no_seatbelt + nonfatal_no_seatbelt)\n",
    "p_fatal_seatbelt = fatal_seatbelt / (fatal_seatbelt + nonfatal_seatbelt)\n",
    "print(f\"Warunkowe prawdopodobieństwo śmierci bez pasów: {p_fatal_no_seatbelt:.6f}\")\n",
    "print(f\"Warunkowe prawdopodobieństwo śmierci z pasami: {p_fatal_seatbelt:.6f}\")"
   ]
  },
  {
   "cell_type": "markdown",
   "id": "35e535ce",
   "metadata": {},
   "source": [
    "### b)"
   ]
  },
  {
   "cell_type": "code",
   "execution_count": 84,
   "id": "a2241de1",
   "metadata": {},
   "outputs": [
    {
     "name": "stdout",
     "output_type": "stream",
     "text": [
      "Warunkowe prawdopodobieństwo użycia pasów wśród ofiar śmiertelnych: 0.393\n",
      "Warunkowe prawdopodobieństwo użycia pasów wśród osób, które przeżyły: 0.888\n"
     ]
    }
   ],
   "source": [
    "p_seatbelt_fatal = fatal_seatbelt / (fatal_seatbelt + fatal_no_seatbelt)\n",
    "p_seatbelt_nonfatal = nonfatal_seatbelt / (nonfatal_seatbelt + nonfatal_no_seatbelt)\n",
    "print(f\"Warunkowe prawdopodobieństwo użycia pasów wśród ofiar śmiertelnych: {p_seatbelt_fatal:.3f}\")\n",
    "print(f\"Warunkowe prawdopodobieństwo użycia pasów wśród osób, które przeżyły: {p_seatbelt_nonfatal:.3f}\")"
   ]
  },
  {
   "cell_type": "markdown",
   "id": "7331207a",
   "metadata": {},
   "source": [
    "### c)"
   ]
  },
  {
   "cell_type": "code",
   "execution_count": 85,
   "id": "7e39e165",
   "metadata": {},
   "outputs": [
    {
     "name": "stdout",
     "output_type": "stream",
     "text": [
      "Różnica proporcji: 0.017542\n",
      "Ryzyko względne: 12.03\n",
      "Iloraz szans: 12.24\n"
     ]
    }
   ],
   "source": [
    "difference_proportion = p_fatal_no_seatbelt - p_fatal_seatbelt\n",
    "relative_risk = p_fatal_no_seatbelt / p_fatal_seatbelt\n",
    "odds_ratio = (p_fatal_no_seatbelt / (1 - p_fatal_no_seatbelt)) / (p_fatal_seatbelt / (1 - p_fatal_seatbelt))\n",
    "\n",
    "print(f\"Różnica proporcji: {difference_proportion:.6f}\")\n",
    "print(f\"Ryzyko względne: {relative_risk:.2f}\")\n",
    "print(f\"Iloraz szans: {odds_ratio:.2f}\")"
   ]
  },
  {
   "cell_type": "markdown",
   "id": "4e956864",
   "metadata": {},
   "source": [
    "Wnioski: Gdy prawdopodobieństwo zdarzenia jest niskie, iloraz szans dobrze aproksymuje ryzyko względne. W tym przypadku śmiertelność jest stosunkowo rzadka, więc wartości względnego ryzyka i Ilorazu szans są sobie bliskie."
   ]
  },
  {
   "cell_type": "markdown",
   "id": "eaaf95de",
   "metadata": {},
   "source": [
    "### **Zadanie 13**"
   ]
  },
  {
   "cell_type": "markdown",
   "id": "1394541c",
   "metadata": {},
   "source": [
    "Współczynnik tau Kendalla mierzy siłę i kierunek zależności między zmiennymi porządkowymi. Wartość bliska 1 oznacza silną dodatnią korelację, bliska -1 oznacza silną ujemną korelację, a bliska 0 wskazuje na brak istotnej zależności."
   ]
  },
  {
   "cell_type": "code",
   "execution_count": 86,
   "id": "1597e40b",
   "metadata": {},
   "outputs": [
    {
     "name": "stdout",
     "output_type": "stream",
     "text": [
      "Współczynnik tau Kendalla dla stopnia zadowolenia i stanowiska: -0.013, p-value: 0.849\n",
      "Współczynnik tau Kendalla dla stopnia zadowolenia i stażu pracy: 0.048, p-value: 0.467\n",
      "Współczynnik tau Kendalla dla stanowiska i stażu pracy: 0.282, p-value: 0.000\n"
     ]
    }
   ],
   "source": [
    "tau_pyt2_kier, p_value_tau_pyt2_kier = st.kendalltau(df[\"PYT_2\"], df[\"CZY_KIER\"])\n",
    "print(f\"Współczynnik tau Kendalla dla stopnia zadowolenia i stanowiska: {tau_pyt2_kier:.3f}, p-value: {p_value_tau_pyt2_kier:.3f}\")\n",
    "tau_pyt2_staz, p_value_tau_pyt2_staz = st.kendalltau(df[\"PYT_2\"], df[\"STAŻ\"])\n",
    "print(f\"Współczynnik tau Kendalla dla stopnia zadowolenia i stażu pracy: {tau_pyt2_staz:.3f}, p-value: {p_value_tau_pyt2_staz:.3f}\")\n",
    "tau_kier_staz, p_value_tau_kier_staz = st.kendalltau(df[\"CZY_KIER\"], df[\"STAŻ\"])\n",
    "print(f\"Współczynnik tau Kendalla dla stanowiska i stażu pracy: {tau_kier_staz:.3f}, p-value: {p_value_tau_kier_staz:.3f}\")"
   ]
  },
  {
   "cell_type": "markdown",
   "id": "6fb3bcef",
   "metadata": {},
   "source": [
    "Wnioski: Nie wykryto istotnej zależności między stopniem zadowolenia, a stanowiskiem kierowniczym, p-wartość = 0.849 oznacza, że nie mamy podstaw do odrzucenia hipotezy o braku zależności. Współczynnik tau jest również blisku zeru w przypadku stopnia zadowolenia i stażu pracy. Jeżeli chodzi o stanowisko i staż pracy, wykryto średnią dodatnią zależność, która jest statystycznie istotna."
   ]
  },
  {
   "cell_type": "markdown",
   "id": "4f034adc",
   "metadata": {},
   "source": [
    "### **Zadanie 14**"
   ]
  },
  {
   "cell_type": "markdown",
   "id": "7089fd54",
   "metadata": {},
   "source": [
    "Dokonujemy analizy korespondencji dla danych dotyczących stopnia zadowolenia ze szkoleń w kontekście dopasowania do indywidualnych potrzeb w pierwszym badanym okresie oraz stażu pracy."
   ]
  },
  {
   "cell_type": "code",
   "execution_count": 87,
   "id": "4f696859",
   "metadata": {},
   "outputs": [
    {
     "data": {
      "text/html": [
       "<div>\n",
       "<style scoped>\n",
       "    .dataframe tbody tr th:only-of-type {\n",
       "        vertical-align: middle;\n",
       "    }\n",
       "\n",
       "    .dataframe tbody tr th {\n",
       "        vertical-align: top;\n",
       "    }\n",
       "\n",
       "    .dataframe thead th {\n",
       "        text-align: right;\n",
       "    }\n",
       "</style>\n",
       "<table border=\"1\" class=\"dataframe\">\n",
       "  <thead>\n",
       "    <tr style=\"text-align: right;\">\n",
       "      <th>STAŻ</th>\n",
       "      <th>1</th>\n",
       "      <th>2</th>\n",
       "      <th>3</th>\n",
       "    </tr>\n",
       "    <tr>\n",
       "      <th>PYT_2</th>\n",
       "      <th></th>\n",
       "      <th></th>\n",
       "      <th></th>\n",
       "    </tr>\n",
       "  </thead>\n",
       "  <tbody>\n",
       "    <tr>\n",
       "      <th>-2</th>\n",
       "      <td>20</td>\n",
       "      <td>45</td>\n",
       "      <td>9</td>\n",
       "    </tr>\n",
       "    <tr>\n",
       "      <th>-1</th>\n",
       "      <td>3</td>\n",
       "      <td>17</td>\n",
       "      <td>0</td>\n",
       "    </tr>\n",
       "    <tr>\n",
       "      <th>1</th>\n",
       "      <td>0</td>\n",
       "      <td>0</td>\n",
       "      <td>2</td>\n",
       "    </tr>\n",
       "    <tr>\n",
       "      <th>2</th>\n",
       "      <td>18</td>\n",
       "      <td>78</td>\n",
       "      <td>8</td>\n",
       "    </tr>\n",
       "  </tbody>\n",
       "</table>\n",
       "</div>"
      ],
      "text/plain": [
       "STAŻ    1   2  3\n",
       "PYT_2           \n",
       "-2     20  45  9\n",
       "-1      3  17  0\n",
       " 1      0   0  2\n",
       " 2     18  78  8"
      ]
     },
     "metadata": {},
     "output_type": "display_data"
    }
   ],
   "source": [
    "table = pd.crosstab(df[\"PYT_2\"], df[\"STAŻ\"])\n",
    "display(table)"
   ]
  },
  {
   "cell_type": "code",
   "execution_count": 88,
   "id": "a0db6a96",
   "metadata": {},
   "outputs": [],
   "source": [
    "def correspondence_analysis(table, n_components=2):\n",
    "    # Konwersja tabeli na tablicę NumPy i obliczenie częstości względnych\n",
    "    table = np.array(table, dtype=np.float64)\n",
    "    total = np.sum(table)\n",
    "    P = table / total  # Prawdopodobieństwa obserwacji\n",
    "\n",
    "    # Profile wierszy i kolumn (suma prawdopodobieństw)\n",
    "    r = np.sum(P, axis=1)\n",
    "    c = np.sum(P, axis=0)\n",
    "\n",
    "    # Obliczenie oczekiwanych częstości jako iloczyn profili\n",
    "    expected = np.outer(r, c)\n",
    "\n",
    "    # Macierze diagonalne do skalowania\n",
    "    Dr_inv_sqrt = np.diag(1 / np.sqrt(r))\n",
    "    Dc_inv_sqrt = np.diag(1 / np.sqrt(c))\n",
    "\n",
    "    # Obliczenie zcentralizowanej macierzy reszt (standaryzowanych różnic)\n",
    "    S = Dr_inv_sqrt @ (P - expected) @ Dc_inv_sqrt\n",
    "\n",
    "    # Rozkład SVD macierzy S\n",
    "    U, s, Vt = np.linalg.svd(S, full_matrices=False)\n",
    "\n",
    "    # Obliczenie wartości własnych oraz inercji (wyjaśnionej wariancji)\n",
    "    eigenvalues = s**2\n",
    "    inertia = eigenvalues / np.sum(eigenvalues)\n",
    "\n",
    "    # Standardowe współrzędne wierszy i kolumn: U * s i V * s (przy czym V = Vt.T)\n",
    "    F = U[:, :n_components] * s[:n_components]\n",
    "    G = Vt.T[:, :n_components] * s[:n_components]\n",
    "\n",
    "    # Aby uzyskać współrzędne główne (principal coordinates) zgodne z prince.CA,\n",
    "    # dodatkowo skaluje się wyniki przez macierze odwrotnych pierwiastków z profili.\n",
    "    F_principal = np.diag(1/np.sqrt(r)) @ F\n",
    "    G_principal = np.diag(1/np.sqrt(c)) @ G\n",
    "\n",
    "    # Uporządkowanie wyników do postaci DataFrame\n",
    "    row_index = [f\"{i}\" for i in range(table.shape[0])]\n",
    "    col_index = [f\"{j}\" for j in range(table.shape[1])]\n",
    "    row_coords_df = pd.DataFrame(F_principal, index=row_index, columns=[0, 1])\n",
    "    col_coords_df = pd.DataFrame(G_principal, index=col_index, columns=[0, 1])\n",
    "\n",
    "    # Wizualizacja wyników\n",
    "    plt.figure(figsize=(8, 6))\n",
    "    # Wiersze\n",
    "    plt.scatter(row_coords_df[0], row_coords_df[1], c='red', label='Stopień zadowolenia')\n",
    "    # Kolumny\n",
    "    plt.scatter(col_coords_df[0], col_coords_df[1], c='blue', label='Staż')\n",
    "\n",
    "    # Dodanie etykiet przy punktach\n",
    "    for idx, point in row_coords_df.iterrows():\n",
    "        plt.text(point[0], point[1] + 0.02, f\"Row{idx}\", color='red')\n",
    "    for idx, point in col_coords_df.iterrows():\n",
    "        plt.text(point[0], point[1] + 0.02, f\"Col{idx}\", color='blue')\n",
    "\n",
    "    # Dodanie pionowej linii przerywanej przy x=0 oraz poziomej przy y=0\n",
    "    plt.axvline(x=0, linestyle='--', color='gray')\n",
    "    plt.axhline(y=0, linestyle='--', color='gray')\n",
    "\n",
    "    plt.title('Analiza korespondencji - związek pomiędzy poziomem zadowolenia, a stażem')\n",
    "    plt.xlabel('Wymiar 1')\n",
    "    plt.ylabel('Wymiar 2')\n",
    "    plt.legend()\n",
    "    plt.grid(alpha=0.3)\n",
    "    plt.show()\n",
    "\n",
    "    return row_coords_df, col_coords_df, eigenvalues, inertia"
   ]
  },
  {
   "cell_type": "code",
   "execution_count": 89,
   "id": "1a39d4e6",
   "metadata": {},
   "outputs": [
    {
     "data": {
      "image/png": "[encoded data removed]",
      "text/plain": [
       "<Figure size 800x600 with 1 Axes>"
      ]
     },
     "metadata": {},
     "output_type": "display_data"
    },
    {
     "data": {
      "text/plain": [
       "(          0         1\n",
       " 0  0.118266  0.162227\n",
       " 1 -0.350562 -0.137860\n",
       " 2  3.046727 -0.493733\n",
       " 3 -0.075326 -0.079425,\n",
       "           0         1\n",
       " 0 -0.003061  0.259435\n",
       " 1 -0.138246 -0.067150\n",
       " 2  1.025261 -0.065046,\n",
       " array([1.13240431e-01, 1.73561387e-02, 3.10310148e-34]),\n",
       " array([8.67101113e-01, 1.32898887e-01, 2.37609724e-33]))"
      ]
     },
     "execution_count": 89,
     "metadata": {},
     "output_type": "execute_result"
    }
   ],
   "source": [
    "correspondence_analysis(table)"
   ]
  },
  {
   "cell_type": "markdown",
   "id": "f2d6864e",
   "metadata": {},
   "source": [
    "Wnioski: Im bliżej siebie są punkty, tym bardziej są ze sobą powiązane. Wymiary reprezentują kierunki zmienności w danych. Występuje zależność między stażem, a poziomem zadowolenia ze szkoleń. Najczęściej zadowolenie wykazują osoby ze średnim stażem, a niezadowolenie te z najmniejszym stażem."
   ]
  }
 ],
 "metadata": {
  "kernelspec": {
   "display_name": "Python 3",
   "language": "python",
   "name": "python3"
  },
  "language_info": {
   "codemirror_mode": {
    "name": "ipython",
    "version": 3
   },
   "file_extension": ".py",
   "mimetype": "text/x-python",
   "name": "python",
   "nbconvert_exporter": "python",
   "pygments_lexer": "ipython3",
   "version": "3.12.5"
  }
 },
 "nbformat": 4,
 "nbformat_minor": 5
}
